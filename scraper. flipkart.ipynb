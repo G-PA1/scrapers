{
 "cells": [
  {
   "cell_type": "code",
   "execution_count": 48,
   "id": "554221c1",
   "metadata": {},
   "outputs": [],
   "source": [
    "import pandas as pd\n",
    "import csv\n",
    "import requests as r\n",
    "from bs4 import BeautifulSoup as bs\n",
    "\n",
    "\n",
    "def data_rows():\n",
    "    \n",
    "    url='https://www.flipkart.com/search?q=samsung+mobiles&as=on&as-show=on&otracker=AS_Query_OrganicAutoSuggest_3_1_na_na_ps&otracker1=AS_Query_OrganicAutoSuggest_3_1_na_na_ps&as-pos=3&as-type=RECENT&suggestionId=samsung+mobiles&requestId=5a3c888e-e84d-4d0a-952d-25bca802d52e&as-searchtext=s'\n",
    "    page=r.get(url)\n",
    "\n",
    "    soup=bs(page.content,'html.parser')\n",
    "    products=soup.find_all(class_=\"_13oc-S\")\n",
    "\n",
    "\n",
    "    for product in products:\n",
    "        link=product.find(class_=\"_1fQZEK\")\n",
    "        url=link['href']\n",
    "        name=product.find(class_=\"_4rR01T\")\n",
    "        rating=product.find(class_=\"_3LWZlK\")\n",
    "        price=product.find(class_=\"_30jeq3 _1_WHN1\")\n",
    "\n",
    "        n=name.text\n",
    "        if not rating:\n",
    "           m=None\n",
    "        else:m=(rating.text)\n",
    "        p=price.text\n",
    "        l='https://www.flipkart.com'+url\n",
    "\n",
    "        yield [n,m,p,l]\n",
    "    \n"
   ]
  },
  {
   "cell_type": "code",
   "execution_count": 60,
   "id": "b91aaf03",
   "metadata": {},
   "outputs": [],
   "source": [
    "def data_columns():\n",
    "    \n",
    "    url='https://www.flipkart.com/search?q=samsung+mobiles&as=on&as-show=on&otracker=AS_Query_OrganicAutoSuggest_3_1_na_na_ps&otracker1=AS_Query_OrganicAutoSuggest_3_1_na_na_ps&as-pos=3&as-type=RECENT&suggestionId=samsung+mobiles&requestId=5a3c888e-e84d-4d0a-952d-25bca802d52e&as-searchtext=s'\n",
    "    page=r.get(url)\n",
    "\n",
    "    soup=bs(page.content,'html.parser')\n",
    "    products=soup.find_all(class_=\"_13oc-S\")\n",
    "\n",
    "    name_col=['name']\n",
    "    rating_col=['rating']\n",
    "    price_col=['price']\n",
    "    link_col=['link']\n",
    "    \n",
    "    for product in products:\n",
    "        \n",
    "        link=product.find(class_=\"_1fQZEK\")\n",
    "        url=link['href']\n",
    "        l='https://www.flipkart.com'+url\n",
    "        \n",
    "        name=product.find(class_=\"_4rR01T\")\n",
    "        \n",
    "        rating=product.find(class_=\"_3LWZlK\")\n",
    "        if not rating:\n",
    "            m='None'\n",
    "        else:m=rating.text\n",
    "            \n",
    "        price=product.find(class_=\"_30jeq3 _1_WHN1\")\n",
    "        \n",
    "        \n",
    "        name_col=name_col+[name.text]\n",
    "        rating_col=rating_col+[m]\n",
    "        price_col=price_col+[price.text]\n",
    "        link_col=link_col+[l]\n",
    "        \n",
    "    return [name_col,rating_col, price_col,link_col]\n",
    "            "
   ]
  },
  {
   "cell_type": "code",
   "execution_count": null,
   "id": "e321c3a6",
   "metadata": {},
   "outputs": [],
   "source": []
  },
  {
   "cell_type": "code",
   "execution_count": null,
   "id": "d6b2c1fc",
   "metadata": {},
   "outputs": [],
   "source": []
  }
 ],
 "metadata": {
  "kernelspec": {
   "display_name": "Python 3 (ipykernel)",
   "language": "python",
   "name": "python3"
  },
  "language_info": {
   "codemirror_mode": {
    "name": "ipython",
    "version": 3
   },
   "file_extension": ".py",
   "mimetype": "text/x-python",
   "name": "python",
   "nbconvert_exporter": "python",
   "pygments_lexer": "ipython3",
   "version": "3.9.13"
  }
 },
 "nbformat": 4,
 "nbformat_minor": 5
}
