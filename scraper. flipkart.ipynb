{
 "cells": [
  {
   "cell_type": "code",
   "execution_count": 11,
   "id": "554221c1",
   "metadata": {},
   "outputs": [],
   "source": [
    "import pandas as pd\n",
    "import csv\n",
    "import requests as r\n",
    "from bs4 import BeautifulSoup as bs\n",
    "\n",
    "\n",
    "def data_rows(product=str):\n",
    "    \n",
    "    url=f'https://www.flipkart.com/search?q={product}'\n",
    "    page=r.get(url)\n",
    "\n",
    "    soup=bs(page.content,'html.parser')\n",
    "    products=soup.find_all(class_=\"_13oc-S\")\n",
    "\n",
    "\n",
    "    for product in products:\n",
    "        link=product.find(class_=\"_1fQZEK\")\n",
    "        url=link['href']\n",
    "        name=product.find(class_=\"_4rR01T\")\n",
    "        rating=product.find(class_=\"_3LWZlK\")\n",
    "        price=product.find(class_=\"_30jeq3 _1_WHN1\")\n",
    "\n",
    "        n=name.text\n",
    "        if not rating:\n",
    "           m=None\n",
    "        else:m=(rating.text)\n",
    "        p=price.text\n",
    "        l='https://www.flipkart.com'+url\n",
    "\n",
    "        yield [n,m,p,l]\n",
    "    \n"
   ]
  },
  {
   "cell_type": "code",
   "execution_count": 31,
   "id": "b91aaf03",
   "metadata": {},
   "outputs": [],
   "source": [
    "def data_columns(product=str):\n",
    "    \n",
    "    url=f'https://www.flipkart.com/search?q={product}'\n",
    "    page=r.get(url)\n",
    "\n",
    "    soup=bs(page.content,'html.parser')\n",
    "    products=soup.find_all(class_=\"_13oc-S\")\n",
    "\n",
    "    name_col=['name']\n",
    "    rating_col=['rating']\n",
    "    price_col=['price']\n",
    "    link_col=['link']\n",
    "    \n",
    "    for product in products:\n",
    "        \n",
    "        link=product.find(class_=\"_1fQZEK\")\n",
    "        url=link['href']\n",
    "        l='https://www.flipkart.com'+url\n",
    "        \n",
    "        name=product.find(class_=\"_4rR01T\")\n",
    "        \n",
    "        rating=product.find(class_=\"_3LWZlK\")\n",
    "        if not rating:\n",
    "            m='None'\n",
    "        else:m=rating.text\n",
    "            \n",
    "        price=product.find(class_=\"_30jeq3 _1_WHN1\")\n",
    "        \n",
    "        \n",
    "        name_col=name_col+[name.text]\n",
    "        rating_col=rating_col+[m]\n",
    "        price_col=price_col+[price.text]\n",
    "        link_col=link_col+[l]\n",
    "        \n",
    "    return [name_col,rating_col, price_col,link_col]\n",
    "            "
   ]
  },
  {
   "cell_type": "code",
   "execution_count": 35,
   "id": "e321c3a6",
   "metadata": {},
   "outputs": [
    {
     "name": "stdout",
     "output_type": "stream",
     "text": [
      "[['name', 'MOTOROLA e40 (Carbon Gray, 64 GB)', 'MOTOROLA e40 (Pink Clay, 64 GB)', 'MOTOROLA G32 (Mineral Gray, 64 GB)', 'MOTOROLA G32 (Satin Silver, 64 GB)', 'MOTOROLA G62 5G (Midnight Gray, 128 GB)', 'MOTOROLA g31 (Baby Blue, 128 GB)', 'MOTOROLA g52 (Charcoal Grey, 128 GB)', 'MOTOROLA G60 (Moonless, 128 GB)', 'MOTOROLA g52 (Metallic White, 128 GB)', 'MOTOROLA g31 (Meteorite Grey, 64 GB)', 'MOTOROLA edge 30 (Meteor Grey, 128 GB)', 'MOTOROLA g31 (Meteorite Grey, 128 GB)', 'MOTOROLA G40 Fusion (Frosted Champagne, 128 GB)', 'Moto G71 5G (Neptune Green, 128 GB)', 'MOTOROLA g31 (Baby Blue, 64 GB)', 'MOTOROLA g52 (Metallic White, 64 GB)', 'MOTOROLA g22 (Iceberg Blue, 64 GB)', 'MOTOROLA G62 5G (Frosted Blue, 128 GB)', 'MOTOROLA g52 (Charcoal Grey, 64 GB)', 'MOTOROLA e32s (Slate Gray, 32 GB)', 'MOTOROLA g82 5G (Meterorite Grey, 128 GB)', 'MOTOROLA e32s (Misty Silver, 32 GB)', 'MOTOROLA G62 5G (Midnight Gray, 128 GB)', 'Motorola a70'], ['rating', '4.1', '4.1', '4.2', '4.2', '4.1', '4.1', '4.2', '4.2', '4.2', '4.2', '4.2', '4.1', '4.2', '4.2', '4.2', '4.2', '3.7', '4.1', '4.2', '3.7', '4.1', '3.7', '4.1', '4'], ['price', '₹8,299', '₹8,299', '₹10,499', '₹10,499', '₹15,999', '₹11,999', '₹13,999', '₹14,999', '₹13,999', '₹10,499', '₹24,999', '₹11,999', '₹13,499', '₹16,999', '₹10,499', '₹12,999', '₹9,999', '₹15,999', '₹12,999', '₹7,900', '₹19,999', '₹7,921', '₹17,999', '₹1,999'], ['link', 'https://www.flipkart.com/motorola-e40-carbon-gray-64-gb/p/itm0ca635007c9e2?pid=MOBG2EMWUMUFGSZE&lid=LSTMOBG2EMWUMUFGSZEJNGZMU&marketplace=FLIPKART&q=moto+phone&store=tyy%2F4io&spotlightTagId=BestsellerId_tyy%2F4io&srno=s_1_1&otracker=search&fm=organic&iid=d9a99cde-d61d-48cb-aa8f-7de4d0f46b93.MOBG2EMWUMUFGSZE.SEARCH&ppt=None&ppn=None&ssid=xxprjomfuo0000001669705943559&qH=9ca4030d7de2dd04', 'https://www.flipkart.com/motorola-e40-pink-clay-64-gb/p/itm5d6f2871d1bbf?pid=MOBG2EMW2ZUR4BFG&lid=LSTMOBG2EMW2ZUR4BFGEC0C0J&marketplace=FLIPKART&q=moto+phone&store=tyy%2F4io&srno=s_1_2&otracker=search&fm=organic&iid=d9a99cde-d61d-48cb-aa8f-7de4d0f46b93.MOBG2EMW2ZUR4BFG.SEARCH&ppt=None&ppn=None&ssid=xxprjomfuo0000001669705943559&qH=9ca4030d7de2dd04', 'https://www.flipkart.com/motorola-g32-mineral-gray-64-gb/p/itmdcfa4c4022714?pid=MOBGEA3CZ8Z7HWCY&lid=LSTMOBGEA3CZ8Z7HWCYPHBSGA&marketplace=FLIPKART&q=moto+phone&store=tyy%2F4io&srno=s_1_3&otracker=search&fm=organic&iid=d9a99cde-d61d-48cb-aa8f-7de4d0f46b93.MOBGEA3CZ8Z7HWCY.SEARCH&ppt=None&ppn=None&ssid=xxprjomfuo0000001669705943559&qH=9ca4030d7de2dd04', 'https://www.flipkart.com/motorola-g32-satin-silver-64-gb/p/itm264e8f39d3934?pid=MOBGEA3CGNUPBCD2&lid=LSTMOBGEA3CGNUPBCD2VDDYC6&marketplace=FLIPKART&q=moto+phone&store=tyy%2F4io&srno=s_1_4&otracker=search&fm=organic&iid=d9a99cde-d61d-48cb-aa8f-7de4d0f46b93.MOBGEA3CGNUPBCD2.SEARCH&ppt=None&ppn=None&ssid=xxprjomfuo0000001669705943559&qH=9ca4030d7de2dd04', 'https://www.flipkart.com/motorola-g62-5g-midnight-gray-128-gb/p/itm37da299ffb2d0?pid=MOBGEDT5ZZMZQZSJ&lid=LSTMOBGEDT5ZZMZQZSJL5Z9RH&marketplace=FLIPKART&q=moto+phone&store=tyy%2F4io&srno=s_1_5&otracker=search&fm=organic&iid=d9a99cde-d61d-48cb-aa8f-7de4d0f46b93.MOBGEDT5ZZMZQZSJ.SEARCH&ppt=None&ppn=None&ssid=xxprjomfuo0000001669705943559&qH=9ca4030d7de2dd04', 'https://www.flipkart.com/motorola-g31-baby-blue-128-gb/p/itm4abfdd078ea12?pid=MOBG3E8WDCFZEGFN&lid=LSTMOBG3E8WDCFZEGFNOXYVFY&marketplace=FLIPKART&q=moto+phone&store=tyy%2F4io&srno=s_1_6&otracker=search&fm=organic&iid=d9a99cde-d61d-48cb-aa8f-7de4d0f46b93.MOBG3E8WDCFZEGFN.SEARCH&ppt=None&ppn=None&ssid=xxprjomfuo0000001669705943559&qH=9ca4030d7de2dd04', 'https://www.flipkart.com/motorola-g52-charcoal-grey-128-gb/p/itmea9ebe003e26c?pid=MOBGAKFYFCZJ8JVY&lid=LSTMOBGAKFYFCZJ8JVYO1OB2T&marketplace=FLIPKART&q=moto+phone&store=tyy%2F4io&srno=s_1_7&otracker=search&fm=organic&iid=d9a99cde-d61d-48cb-aa8f-7de4d0f46b93.MOBGAKFYFCZJ8JVY.SEARCH&ppt=None&ppn=None&ssid=xxprjomfuo0000001669705943559&qH=9ca4030d7de2dd04', 'https://www.flipkart.com/motorola-g60-moonless-128-gb/p/itma894654fddb46?pid=MOBG9CJ6KRYW4NJT&lid=LSTMOBG9CJ6KRYW4NJTXM0QKG&marketplace=FLIPKART&q=moto+phone&store=tyy%2F4io&srno=s_1_8&otracker=search&fm=organic&iid=d9a99cde-d61d-48cb-aa8f-7de4d0f46b93.MOBG9CJ6KRYW4NJT.SEARCH&ppt=None&ppn=None&ssid=xxprjomfuo0000001669705943559&qH=9ca4030d7de2dd04', 'https://www.flipkart.com/motorola-g52-metallic-white-128-gb/p/itm469efad765b98?pid=MOBGAKFYDDSNZGR8&lid=LSTMOBGAKFYDDSNZGR8W6QBUV&marketplace=FLIPKART&q=moto+phone&store=tyy%2F4io&srno=s_1_9&otracker=search&fm=organic&iid=d9a99cde-d61d-48cb-aa8f-7de4d0f46b93.MOBGAKFYDDSNZGR8.SEARCH&ppt=None&ppn=None&ssid=xxprjomfuo0000001669705943559&qH=9ca4030d7de2dd04', 'https://www.flipkart.com/motorola-g31-meteorite-grey-64-gb/p/itmbdda30a7812a0?pid=MOBG3E8WK7736ZH5&lid=LSTMOBG3E8WK7736ZH5PDBHI4&marketplace=FLIPKART&q=moto+phone&store=tyy%2F4io&srno=s_1_10&otracker=search&fm=organic&iid=d9a99cde-d61d-48cb-aa8f-7de4d0f46b93.MOBG3E8WK7736ZH5.SEARCH&ppt=None&ppn=None&ssid=xxprjomfuo0000001669705943559&qH=9ca4030d7de2dd04', 'https://www.flipkart.com/motorola-edge-30-meteor-grey-128-gb/p/itma02c4f5bca2df?pid=MOBGDCYGCZCYGYYZ&lid=LSTMOBGDCYGCZCYGYYZDNNWFQ&marketplace=FLIPKART&q=moto+phone&store=tyy%2F4io&srno=s_1_11&otracker=search&fm=organic&iid=d9a99cde-d61d-48cb-aa8f-7de4d0f46b93.MOBGDCYGCZCYGYYZ.SEARCH&ppt=None&ppn=None&ssid=xxprjomfuo0000001669705943559&qH=9ca4030d7de2dd04', 'https://www.flipkart.com/motorola-g31-meteorite-grey-128-gb/p/itmd693244c447de?pid=MOBG3E8W6ACSNZS6&lid=LSTMOBG3E8W6ACSNZS6VCGCDB&marketplace=FLIPKART&q=moto+phone&store=tyy%2F4io&srno=s_1_12&otracker=search&fm=organic&iid=d9a99cde-d61d-48cb-aa8f-7de4d0f46b93.MOBG3E8W6ACSNZS6.SEARCH&ppt=None&ppn=None&ssid=xxprjomfuo0000001669705943559&qH=9ca4030d7de2dd04', 'https://www.flipkart.com/motorola-g40-fusion-frosted-champagne-128-gb/p/itm78278061a0e25?pid=MOBFWSF8Q3XAHTZH&lid=LSTMOBFWSF8Q3XAHTZHU8WKTS&marketplace=FLIPKART&q=moto+phone&store=tyy%2F4io&srno=s_1_13&otracker=search&fm=organic&iid=d9a99cde-d61d-48cb-aa8f-7de4d0f46b93.MOBFWSF8Q3XAHTZH.SEARCH&ppt=None&ppn=None&ssid=xxprjomfuo0000001669705943559&qH=9ca4030d7de2dd04', 'https://www.flipkart.com/moto-g71-5g-neptune-green-128-gb/p/itmf4001ad9b6a40?pid=MOBG6FWD9GYP3VWJ&lid=LSTMOBG6FWD9GYP3VWJKQ1E41&marketplace=FLIPKART&q=moto+phone&store=tyy%2F4io&srno=s_1_14&otracker=search&fm=organic&iid=d9a99cde-d61d-48cb-aa8f-7de4d0f46b93.MOBG6FWD9GYP3VWJ.SEARCH&ppt=None&ppn=None&ssid=xxprjomfuo0000001669705943559&qH=9ca4030d7de2dd04', 'https://www.flipkart.com/motorola-g31-baby-blue-64-gb/p/itm79b9c53dd7e64?pid=MOBG3E8WH8DCRM8H&lid=LSTMOBG3E8WH8DCRM8H2NM88Z&marketplace=FLIPKART&q=moto+phone&store=tyy%2F4io&srno=s_1_15&otracker=search&fm=organic&iid=d9a99cde-d61d-48cb-aa8f-7de4d0f46b93.MOBG3E8WH8DCRM8H.SEARCH&ppt=None&ppn=None&ssid=xxprjomfuo0000001669705943559&qH=9ca4030d7de2dd04', 'https://www.flipkart.com/motorola-g52-metallic-white-64-gb/p/itm1efa717b16445?pid=MOBGAKFYZGXJRBTK&lid=LSTMOBGAKFYZGXJRBTKEM0ZJZ&marketplace=FLIPKART&q=moto+phone&store=tyy%2F4io&srno=s_1_16&otracker=search&fm=organic&iid=d9a99cde-d61d-48cb-aa8f-7de4d0f46b93.MOBGAKFYZGXJRBTK.SEARCH&ppt=None&ppn=None&ssid=xxprjomfuo0000001669705943559&qH=9ca4030d7de2dd04', 'https://www.flipkart.com/motorola-g22-iceberg-blue-64-gb/p/itm7f1a0858d82f0?pid=MOBGAKFYUEH8DEFZ&lid=LSTMOBGAKFYUEH8DEFZGXNNAX&marketplace=FLIPKART&q=moto+phone&store=tyy%2F4io&srno=s_1_17&otracker=search&fm=organic&iid=d9a99cde-d61d-48cb-aa8f-7de4d0f46b93.MOBGAKFYUEH8DEFZ.SEARCH&ppt=None&ppn=None&ssid=xxprjomfuo0000001669705943559&qH=9ca4030d7de2dd04', 'https://www.flipkart.com/motorola-g62-5g-frosted-blue-128-gb/p/itm556a0153d9a10?pid=MOBGEDT5YQ2YFVTQ&lid=LSTMOBGEDT5YQ2YFVTQQ0KAIT&marketplace=FLIPKART&q=moto+phone&store=tyy%2F4io&srno=s_1_18&otracker=search&fm=organic&iid=d9a99cde-d61d-48cb-aa8f-7de4d0f46b93.MOBGEDT5YQ2YFVTQ.SEARCH&ppt=None&ppn=None&ssid=xxprjomfuo0000001669705943559&qH=9ca4030d7de2dd04', 'https://www.flipkart.com/motorola-g52-charcoal-grey-64-gb/p/itm8a96aeaed01c9?pid=MOBGAKFYTDHBAVV3&lid=LSTMOBGAKFYTDHBAVV3DIHRE1&marketplace=FLIPKART&q=moto+phone&store=tyy%2F4io&srno=s_1_19&otracker=search&fm=organic&iid=d9a99cde-d61d-48cb-aa8f-7de4d0f46b93.MOBGAKFYTDHBAVV3.SEARCH&ppt=None&ppn=None&ssid=xxprjomfuo0000001669705943559&qH=9ca4030d7de2dd04', 'https://www.flipkart.com/motorola-e32s-slate-gray-32-gb/p/itm2d976a0518e50?pid=MOBGJMTHFESJUQBT&lid=LSTMOBGJMTHFESJUQBTEZP789&marketplace=FLIPKART&q=moto+phone&store=tyy%2F4io&srno=s_1_20&otracker=search&fm=organic&iid=d9a99cde-d61d-48cb-aa8f-7de4d0f46b93.MOBGJMTHFESJUQBT.SEARCH&ppt=None&ppn=None&ssid=xxprjomfuo0000001669705943559&qH=9ca4030d7de2dd04', 'https://www.flipkart.com/motorola-g82-5g-meterorite-grey-128-gb/p/itmed601beb0febc?pid=MOBGBEU7RTZFGZUQ&lid=LSTMOBGBEU7RTZFGZUQ85TLRN&marketplace=FLIPKART&q=moto+phone&store=tyy%2F4io&srno=s_1_21&otracker=search&fm=organic&iid=d9a99cde-d61d-48cb-aa8f-7de4d0f46b93.MOBGBEU7RTZFGZUQ.SEARCH&ppt=None&ppn=None&ssid=xxprjomfuo0000001669705943559&qH=9ca4030d7de2dd04', 'https://www.flipkart.com/motorola-e32s-misty-silver-32-gb/p/itmafb0a6b7ffa25?pid=MOBGDTTY7VAXSTYP&lid=LSTMOBGDTTY7VAXSTYPE2XZPW&marketplace=FLIPKART&q=moto+phone&store=tyy%2F4io&srno=s_1_22&otracker=search&fm=organic&iid=d9a99cde-d61d-48cb-aa8f-7de4d0f46b93.MOBGDTTY7VAXSTYP.SEARCH&ppt=None&ppn=None&ssid=xxprjomfuo0000001669705943559&qH=9ca4030d7de2dd04', 'https://www.flipkart.com/motorola-g62-5g-midnight-gray-128-gb/p/itm88e51821facb9?pid=MOBGEDT83FAAATHZ&lid=LSTMOBGEDT83FAAATHZJBOUXL&marketplace=FLIPKART&q=moto+phone&store=tyy%2F4io&srno=s_1_23&otracker=search&fm=organic&iid=d9a99cde-d61d-48cb-aa8f-7de4d0f46b93.MOBGEDT83FAAATHZ.SEARCH&ppt=None&ppn=None&ssid=xxprjomfuo0000001669705943559&qH=9ca4030d7de2dd04', 'https://www.flipkart.com/motorola-a70/p/itm27cee4715775f?pid=MOBG7ZG9HRRNUJBP&lid=LSTMOBG7ZG9HRRNUJBP7DE3FI&marketplace=FLIPKART&q=moto+phone&store=tyy%2F4io&srno=s_1_24&otracker=search&fm=organic&iid=d9a99cde-d61d-48cb-aa8f-7de4d0f46b93.MOBG7ZG9HRRNUJBP.SEARCH&ppt=None&ppn=None&ssid=xxprjomfuo0000001669705943559&qH=9ca4030d7de2dd04']]\n"
     ]
    }
   ],
   "source": [
    "print(data_columns('moto phone'))"
   ]
  },
  {
   "cell_type": "code",
   "execution_count": 37,
   "id": "d6b2c1fc",
   "metadata": {},
   "outputs": [
    {
     "name": "stdout",
     "output_type": "stream",
     "text": [
      "[['name', 'Gangnam Street 60 cm (23.5 inch) HD Ready LED TV', 'Gangnam Street 80 cm (32 inch) HD Ready LED Smart Android TV', 'SAMSUNG 80 cm (32 Inch) HD Ready LED Smart Tizen TV with 2022 Model', 'Mi 5A 80 cm (32 inch) HD Ready LED Smart Android TV with Dolby Audio (2022 Model)', 'LG 80 cm (32 inch) HD Ready LED Smart WebOS TV', 'OnePlus Y1 100 cm (40 inch) Full HD LED Smart Android TV with Dolby Audio', 'Infinix Y1 80 cm (32 inch) HD Ready LED Smart Linux TV', 'Gangnam Street 80 cm (32 inch) HD Ready LED TV', 'SAMSUNG 80 cm (32 inch) HD Ready LED Smart Tizen TV', 'OnePlus Y1S 108 cm (43 inch) Full HD LED Smart Android TV with Android 11 and Bezel-Less Frame', 'Thomson Alpha 80 cm (32 inch) HD Ready LED Smart Linux TV with 30 W Sound Output & Bezel-Less Design', 'Gangnam Street 80 cm (32 inch) HD Ready LED Smart Android TV', 'Mi 5A 100 cm (40 inch) Full HD LED Smart Android TV with Dolby Audio (2022 Model)', 'Mi 5A 108 cm (43 inch) Full HD LED Smart Android TV with Dolby Audio (2022 Model)', 'OnePlus Y1S 80 cm (32 inch) HD Ready LED Smart Android TV with Android 11 and Bezel-Less Frame', 'TCL S5205 79.97 cm (32 inch) HD Ready LED Smart Android TV', 'SAMSUNG Crystal 4K Pro 108 cm (43 inch) Ultra HD (4K) LED Smart Tizen TV with Voice Search', 'MOTOROLA Revou 2 1.02 m (40 inch) Full HD LED Smart Android TV with Sound by boAt', 'Infinix Y1 109 cm (43 inch) Full HD LED Smart Linux TV', 'Gangnam Street 98 cm (38.5 inch) HD Ready LED Smart Android TV', 'Vu Premium 108 cm (43 inch) Ultra HD (4K) LED Smart Android TV', 'LG UQ7500 108 cm (43 inch) Ultra HD (4K) LED Smart WebOS TV 2022 Edition', 'Mi X Series 108 cm (43 inch) Ultra HD (4K) LED Smart Android TV with Dolby Vision and 30W Dolby Audio ...', 'MarQ by Flipkart 60 cm (24 inch) HD Ready LED TV'], ['rating', 'None', 'None', '4.3', '4.4', '4.4', '4.3', '4.2', 'None', '4.3', '4.3', '4.5', 'None', '4.4', '4.4', '4.3', '4', '4.4', '4.3', '4.2', 'None', '4.4', '4.4', '4.4', '4.2'], ['price', '₹5,999', '₹8,999', '₹13,490', '₹13,499', '₹13,990', '₹19,999', '₹8,999', '₹7,599', '₹13,490', '₹24,999', '₹8,499', '₹8,999', '₹20,999', '₹23,999', '₹15,999', '₹11,990', '₹31,990', '₹15,999', '₹14,990', '₹14,999', '₹24,999', '₹30,990', '₹27,999', '₹5,499'], ['link', 'https://www.flipkart.com/gangnam-street-60-cm-23-5-inch-hd-ready-led-tv/p/itm03b5e55537d73?pid=TVSGGBTVHGSSSJUA&lid=LSTTVSGGBTVHGSSSJUAWINWIK&marketplace=FLIPKART&q=led+tv&store=ckf%2Fczl&srno=s_1_1&otracker=search&fm=organic&iid=en_kGlUhmxAFlHYe%2BnwGJ%2FvE93feOg0S1JQZh2bzW%2BoRFRhz3OGD9mMKwLey9ekvbWerGEPJFw0rWNVjGR7eW9roA%3D%3D&ppt=None&ppn=None&ssid=k3h0m2y4v40000001669706072492&qH=adeb9465c7a79864', 'https://www.flipkart.com/gangnam-street-80-cm-32-inch-hd-ready-led-smart-android-tv/p/itm3852053061b6e?pid=TVSGGBTVHGHKKNBF&lid=LSTTVSGGBTVHGHKKNBFWX8I4X&marketplace=FLIPKART&q=led+tv&store=ckf%2Fczl&srno=s_1_2&otracker=search&fm=organic&iid=en_kGlUhmxAFlHYe%2BnwGJ%2FvE93feOg0S1JQZh2bzW%2BoRFR2w4F%2FjLkZU4VT6bxFydsD7rPGB0r8%2FHh5r6iPXpS2ig%3D%3D&ppt=None&ppn=None&ssid=k3h0m2y4v40000001669706072492&qH=adeb9465c7a79864', 'https://www.flipkart.com/samsung-80-cm-32-inch-hd-ready-led-smart-tizen-tv-2022-model/p/itm3c07ddc2dd25d?pid=TVSGHY2UZA9YHWQN&lid=LSTTVSGHY2UZA9YHWQNNQENTU&marketplace=FLIPKART&q=led+tv&store=ckf%2Fczl&spotlightTagId=BestsellerId_ckf%2Fczl&srno=s_1_3&otracker=search&fm=organic&iid=d404f380-9f85-44ea-a981-bf770f9a3656.TVSGHY2UZA9YHWQN.SEARCH&ppt=None&ppn=None&ssid=k3h0m2y4v40000001669706072492&qH=adeb9465c7a79864', 'https://www.flipkart.com/mi-5a-80-cm-32-inch-hd-ready-led-smart-android-tv-dolby-audio-2022-model/p/itm98501ffa297ba?pid=TVSGD5CS2SDUUZGN&lid=LSTTVSGD5CS2SDUUZGNWGZUUA&marketplace=FLIPKART&q=led+tv&store=ckf%2Fczl&srno=s_1_4&otracker=search&fm=organic&iid=d404f380-9f85-44ea-a981-bf770f9a3656.TVSGD5CS2SDUUZGN.SEARCH&ppt=None&ppn=None&ssid=k3h0m2y4v40000001669706072492&qH=adeb9465c7a79864', 'https://www.flipkart.com/lg-80-cm-32-inch-hd-ready-led-smart-webos-tv/p/itm6207e6d122567?pid=TVSFTW4CSRW8PGDQ&lid=LSTTVSFTW4CSRW8PGDQSZQIO6&marketplace=FLIPKART&q=led+tv&store=ckf%2Fczl&srno=s_1_5&otracker=search&fm=organic&iid=d404f380-9f85-44ea-a981-bf770f9a3656.TVSFTW4CSRW8PGDQ.SEARCH&ppt=None&ppn=None&ssid=k3h0m2y4v40000001669706072492&qH=adeb9465c7a79864', 'https://www.flipkart.com/oneplus-y1-100-cm-40-inch-full-hd-led-smart-android-tv-dolby-audio/p/itmdcbd9784403b2?pid=TVSG25MMGB8NKFD8&lid=LSTTVSG25MMGB8NKFD8BZ88HR&marketplace=FLIPKART&q=led+tv&store=ckf%2Fczl&srno=s_1_6&otracker=search&fm=organic&iid=d404f380-9f85-44ea-a981-bf770f9a3656.TVSG25MMGB8NKFD8.SEARCH&ppt=None&ppn=None&ssid=k3h0m2y4v40000001669706072492&qH=adeb9465c7a79864', 'https://www.flipkart.com/infinix-y1-80-cm-32-inch-hd-ready-led-smart-linux-tv/p/itme5476ca89d1b0?pid=TVSGFGF34GMTB9KF&lid=LSTTVSGFGF34GMTB9KFF9JZPY&marketplace=FLIPKART&q=led+tv&store=ckf%2Fczl&srno=s_1_7&otracker=search&fm=organic&iid=d404f380-9f85-44ea-a981-bf770f9a3656.TVSGFGF34GMTB9KF.SEARCH&ppt=None&ppn=None&ssid=k3h0m2y4v40000001669706072492&qH=adeb9465c7a79864', 'https://www.flipkart.com/gangnam-street-80-cm-32-inch-hd-ready-led-tv/p/itm80be6fb089b0f?pid=TVSGGBTV4XWGNYMF&lid=LSTTVSGGBTV4XWGNYMFHOKFQP&marketplace=FLIPKART&q=led+tv&store=ckf%2Fczl&srno=s_1_8&otracker=search&fm=organic&iid=en_kGlUhmxAFlHYe%2BnwGJ%2FvE93feOg0S1JQZh2bzW%2BoRFS%2Bc44EhfInvedFB88tNKXpK9IySc8usjZvgyZuT%2F83sQ%3D%3D&ppt=None&ppn=None&ssid=k3h0m2y4v40000001669706072492&qH=adeb9465c7a79864', 'https://www.flipkart.com/samsung-80-cm-32-inch-hd-ready-led-smart-tizen-tv/p/itm6e40262f4572a?pid=TVSFQXFKMHUDYCJ3&lid=LSTTVSFQXFKMHUDYCJ3IOJXHJ&marketplace=FLIPKART&q=led+tv&store=ckf%2Fczl&srno=s_1_9&otracker=search&fm=organic&iid=d404f380-9f85-44ea-a981-bf770f9a3656.TVSFQXFKMHUDYCJ3.SEARCH&ppt=None&ppn=None&ssid=k3h0m2y4v40000001669706072492&qH=adeb9465c7a79864', 'https://www.flipkart.com/oneplus-y1s-108-cm-43-inch-full-hd-led-smart-android-tv-11-bezel-less-frame/p/itm178846d2e1567?pid=TVSGAXEVSNT3HBQA&lid=LSTTVSGAXEVSNT3HBQAKRCYE0&marketplace=FLIPKART&q=led+tv&store=ckf%2Fczl&srno=s_1_10&otracker=search&fm=organic&iid=d404f380-9f85-44ea-a981-bf770f9a3656.TVSGAXEVSNT3HBQA.SEARCH&ppt=None&ppn=None&ssid=k3h0m2y4v40000001669706072492&qH=adeb9465c7a79864', 'https://www.flipkart.com/thomson-alpha-80-cm-32-inch-hd-ready-led-smart-linux-tv-30-w-sound-output-bezel-less-design/p/itm0e90bcdadb9c9?pid=TVSGEMQV7R4CMTGA&lid=LSTTVSGEMQV7R4CMTGAN8OZ8J&marketplace=FLIPKART&q=led+tv&store=ckf%2Fczl&srno=s_1_11&otracker=search&fm=organic&iid=d404f380-9f85-44ea-a981-bf770f9a3656.TVSGEMQV7R4CMTGA.SEARCH&ppt=None&ppn=None&ssid=k3h0m2y4v40000001669706072492&qH=adeb9465c7a79864', 'https://www.flipkart.com/gangnam-street-80-cm-32-inch-hd-ready-led-smart-android-tv/p/itm8a8032337e9d7?pid=TVSGGBTVKKZ4A5ZY&lid=LSTTVSGGBTVKKZ4A5ZYPUBGED&marketplace=FLIPKART&q=led+tv&store=ckf%2Fczl&srno=s_1_12&otracker=search&fm=organic&iid=en_kGlUhmxAFlHYe%2BnwGJ%2FvE93feOg0S1JQZh2bzW%2BoRFRFZVGQ0s%2BiUKWtKUzlyqHZQJKk7MRXDNPfG5B27pgDjQ%3D%3D&ppt=None&ppn=None&ssid=k3h0m2y4v40000001669706072492&qH=adeb9465c7a79864', 'https://www.flipkart.com/mi-5a-100-cm-40-inch-full-hd-led-smart-android-tv-dolby-audio-2022-model/p/itm6be60be56f52d?pid=TVSGD5CS4N7NWFZD&lid=LSTTVSGD5CS4N7NWFZDDJBZRI&marketplace=FLIPKART&q=led+tv&store=ckf%2Fczl&srno=s_1_13&otracker=search&fm=organic&iid=d404f380-9f85-44ea-a981-bf770f9a3656.TVSGD5CS4N7NWFZD.SEARCH&ppt=None&ppn=None&ssid=k3h0m2y4v40000001669706072492&qH=adeb9465c7a79864', 'https://www.flipkart.com/mi-5a-108-cm-43-inch-full-hd-led-smart-android-tv-dolby-audio-2022-model/p/itm2d5967449cb9b?pid=TVSGD5CS3CXNF2DF&lid=LSTTVSGD5CS3CXNF2DFPJ6HSF&marketplace=FLIPKART&q=led+tv&store=ckf%2Fczl&srno=s_1_14&otracker=search&fm=organic&iid=d404f380-9f85-44ea-a981-bf770f9a3656.TVSGD5CS3CXNF2DF.SEARCH&ppt=None&ppn=None&ssid=k3h0m2y4v40000001669706072492&qH=adeb9465c7a79864', 'https://www.flipkart.com/oneplus-y1s-80-cm-32-inch-hd-ready-led-smart-android-tv-11-bezel-less-frame/p/itm0a39edd7df236?pid=TVSGAXEVXNG9YBUM&lid=LSTTVSGAXEVXNG9YBUMLGWYAS&marketplace=FLIPKART&q=led+tv&store=ckf%2Fczl&srno=s_1_15&otracker=search&fm=organic&iid=d404f380-9f85-44ea-a981-bf770f9a3656.TVSGAXEVXNG9YBUM.SEARCH&ppt=None&ppn=None&ssid=k3h0m2y4v40000001669706072492&qH=adeb9465c7a79864', 'https://www.flipkart.com/tcl-s5205-79-97-cm-32-inch-hd-ready-led-smart-android-tv/p/itmfc29b3405768b?pid=TVSGHAH2P4J6E8VV&lid=LSTTVSGHAH2P4J6E8VVO0ODG8&marketplace=FLIPKART&q=led+tv&store=ckf%2Fczl&srno=s_1_16&otracker=search&fm=organic&iid=en_kGlUhmxAFlHYe%2BnwGJ%2FvE93feOg0S1JQZh2bzW%2BoRFSsowiKTxppdhTFFoi4mMlvLOe17HZbnkeDlT2C2Sw3cw%3D%3D&ppt=None&ppn=None&ssid=k3h0m2y4v40000001669706072492&qH=adeb9465c7a79864', 'https://www.flipkart.com/samsung-crystal-4k-pro-108-cm-43-inch-ultra-hd-4k-led-smart-tizen-tv-voice-search/p/itm0a79cecce4743?pid=TVSG2CG7NBNSRYGS&lid=LSTTVSG2CG7NBNSRYGSPSUX4U&marketplace=FLIPKART&q=led+tv&store=ckf%2Fczl&srno=s_1_17&otracker=search&fm=organic&iid=d404f380-9f85-44ea-a981-bf770f9a3656.TVSG2CG7NBNSRYGS.SEARCH&ppt=None&ppn=None&ssid=k3h0m2y4v40000001669706072492&qH=adeb9465c7a79864', 'https://www.flipkart.com/motorola-revou-2-1-02-m-40-inch-full-hd-led-smart-android-tv-sound-boat/p/itm4b345fb6aa59a?pid=TVSGHBGCFZ5NFJXD&lid=LSTTVSGHBGCFZ5NFJXD2LJR8K&marketplace=FLIPKART&q=led+tv&store=ckf%2Fczl&srno=s_1_18&otracker=search&fm=organic&iid=d404f380-9f85-44ea-a981-bf770f9a3656.TVSGHBGCFZ5NFJXD.SEARCH&ppt=None&ppn=None&ssid=k3h0m2y4v40000001669706072492&qH=adeb9465c7a79864', 'https://www.flipkart.com/infinix-y1-109-cm-43-inch-full-hd-led-smart-linux-tv/p/itmb18e72b63288d?pid=TVSGGJZ8THCTVZ3M&lid=LSTTVSGGJZ8THCTVZ3MOMB5QN&marketplace=FLIPKART&q=led+tv&store=ckf%2Fczl&srno=s_1_19&otracker=search&fm=organic&iid=d404f380-9f85-44ea-a981-bf770f9a3656.TVSGGJZ8THCTVZ3M.SEARCH&ppt=None&ppn=None&ssid=k3h0m2y4v40000001669706072492&qH=adeb9465c7a79864', 'https://www.flipkart.com/gangnam-street-98-cm-38-5-inch-hd-ready-led-smart-android-tv/p/itmdee17523cc494?pid=TVSGGBTVDKCAXWVZ&lid=LSTTVSGGBTVDKCAXWVZY52I2X&marketplace=FLIPKART&q=led+tv&store=ckf%2Fczl&srno=s_1_20&otracker=search&fm=organic&iid=en_kGlUhmxAFlHYe%2BnwGJ%2FvE93feOg0S1JQZh2bzW%2BoRFTg3UCom0hy%2BEyaRgs5o1snIVqW%2FarpYXQcLYVG3QQYSg%3D%3D&ppt=None&ppn=None&ssid=k3h0m2y4v40000001669706072492&qH=adeb9465c7a79864', 'https://www.flipkart.com/vu-premium-108-cm-43-inch-ultra-hd-4k-led-smart-android-tv/p/itm20f01d180b1f3?pid=TVSFPENZWHAAVD7Z&lid=LSTTVSFPENZWHAAVD7ZV2MYJ3&marketplace=FLIPKART&q=led+tv&store=ckf%2Fczl&srno=s_1_21&otracker=search&fm=organic&iid=d404f380-9f85-44ea-a981-bf770f9a3656.TVSFPENZWHAAVD7Z.SEARCH&ppt=None&ppn=None&ssid=k3h0m2y4v40000001669706072492&qH=adeb9465c7a79864', 'https://www.flipkart.com/lg-uq7500-108-cm-43-inch-ultra-hd-4k-led-smart-webos-tv-2022/p/itm39fd5782b27ed?pid=TVSGFGYS5TJRUJNV&lid=LSTTVSGFGYS5TJRUJNVLCTYNB&marketplace=FLIPKART&q=led+tv&store=ckf%2Fczl&srno=s_1_22&otracker=search&fm=organic&iid=d404f380-9f85-44ea-a981-bf770f9a3656.TVSGFGYS5TJRUJNV.SEARCH&ppt=None&ppn=None&ssid=k3h0m2y4v40000001669706072492&qH=adeb9465c7a79864', 'https://www.flipkart.com/mi-x-series-108-cm-43-inch-ultra-hd-4k-led-smart-android-tv-dolby-vision-30w-audio-2022-model/p/itm39b39b602f81a?pid=TVSGHEQVGZVTSEBT&lid=LSTTVSGHEQVGZVTSEBT6BSNVA&marketplace=FLIPKART&q=led+tv&store=ckf%2Fczl&srno=s_1_23&otracker=search&fm=organic&iid=d404f380-9f85-44ea-a981-bf770f9a3656.TVSGHEQVGZVTSEBT.SEARCH&ppt=None&ppn=None&ssid=k3h0m2y4v40000001669706072492&qH=adeb9465c7a79864', 'https://www.flipkart.com/marq-flipkart-60-cm-24-inch-hd-ready-led-tv/p/itmaa134e2518c31?pid=TVSGGYRFPJ8BYXZA&lid=LSTTVSGGYRFPJ8BYXZA8KPE50&marketplace=FLIPKART&q=led+tv&store=ckf%2Fczl&srno=s_1_24&otracker=search&fm=organic&iid=d404f380-9f85-44ea-a981-bf770f9a3656.TVSGGYRFPJ8BYXZA.SEARCH&ppt=None&ppn=None&ssid=k3h0m2y4v40000001669706072492&qH=adeb9465c7a79864']]\n"
     ]
    }
   ],
   "source": [
    "print(data_columns('led tv'))"
   ]
  },
  {
   "cell_type": "code",
   "execution_count": 38,
   "id": "4a0223d4",
   "metadata": {},
   "outputs": [
    {
     "ename": "TypeError",
     "evalue": "'NoneType' object is not subscriptable",
     "output_type": "error",
     "traceback": [
      "\u001b[0;31m---------------------------------------------------------------------------\u001b[0m",
      "\u001b[0;31mTypeError\u001b[0m                                 Traceback (most recent call last)",
      "\u001b[0;32m/var/folders/6q/zrhhfs_5681cq24c78787pnh0000gn/T/ipykernel_699/1929102330.py\u001b[0m in \u001b[0;36m<module>\u001b[0;34m\u001b[0m\n\u001b[0;32m----> 1\u001b[0;31m \u001b[0mprint\u001b[0m\u001b[0;34m(\u001b[0m\u001b[0mdata_columns\u001b[0m\u001b[0;34m(\u001b[0m\u001b[0;34m'wrist watch'\u001b[0m\u001b[0;34m)\u001b[0m\u001b[0;34m)\u001b[0m\u001b[0;34m\u001b[0m\u001b[0;34m\u001b[0m\u001b[0m\n\u001b[0m",
      "\u001b[0;32m/var/folders/6q/zrhhfs_5681cq24c78787pnh0000gn/T/ipykernel_699/2220709968.py\u001b[0m in \u001b[0;36mdata_columns\u001b[0;34m(product)\u001b[0m\n\u001b[1;32m     15\u001b[0m \u001b[0;34m\u001b[0m\u001b[0m\n\u001b[1;32m     16\u001b[0m         \u001b[0mlink\u001b[0m\u001b[0;34m=\u001b[0m\u001b[0mproduct\u001b[0m\u001b[0;34m.\u001b[0m\u001b[0mfind\u001b[0m\u001b[0;34m(\u001b[0m\u001b[0mclass_\u001b[0m\u001b[0;34m=\u001b[0m\u001b[0;34m\"_1fQZEK\"\u001b[0m\u001b[0;34m)\u001b[0m\u001b[0;34m\u001b[0m\u001b[0;34m\u001b[0m\u001b[0m\n\u001b[0;32m---> 17\u001b[0;31m         \u001b[0murl\u001b[0m\u001b[0;34m=\u001b[0m\u001b[0mlink\u001b[0m\u001b[0;34m[\u001b[0m\u001b[0;34m'href'\u001b[0m\u001b[0;34m]\u001b[0m\u001b[0;34m\u001b[0m\u001b[0;34m\u001b[0m\u001b[0m\n\u001b[0m\u001b[1;32m     18\u001b[0m         \u001b[0ml\u001b[0m\u001b[0;34m=\u001b[0m\u001b[0;34m'https://www.flipkart.com'\u001b[0m\u001b[0;34m+\u001b[0m\u001b[0murl\u001b[0m\u001b[0;34m\u001b[0m\u001b[0;34m\u001b[0m\u001b[0m\n\u001b[1;32m     19\u001b[0m \u001b[0;34m\u001b[0m\u001b[0m\n",
      "\u001b[0;31mTypeError\u001b[0m: 'NoneType' object is not subscriptable"
     ]
    }
   ],
   "source": [
    "print(data_columns('wrist watch'))"
   ]
  },
  {
   "cell_type": "code",
   "execution_count": null,
   "id": "e57a12db",
   "metadata": {},
   "outputs": [],
   "source": []
  }
 ],
 "metadata": {
  "kernelspec": {
   "display_name": "Python 3 (ipykernel)",
   "language": "python",
   "name": "python3"
  },
  "language_info": {
   "codemirror_mode": {
    "name": "ipython",
    "version": 3
   },
   "file_extension": ".py",
   "mimetype": "text/x-python",
   "name": "python",
   "nbconvert_exporter": "python",
   "pygments_lexer": "ipython3",
   "version": "3.9.13"
  }
 },
 "nbformat": 4,
 "nbformat_minor": 5
}
